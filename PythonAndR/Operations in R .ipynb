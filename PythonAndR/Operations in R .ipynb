{
 "cells": [
  {
   "cell_type": "markdown",
   "metadata": {},
   "source": [
    "# Operations in R "
   ]
  },
  {
   "cell_type": "markdown",
   "metadata": {},
   "source": [
    "### Vectors"
   ]
  },
  {
   "cell_type": "code",
   "execution_count": 1,
   "metadata": {},
   "outputs": [
    {
     "data": {
      "text/html": [
       "<ol class=list-inline>\n",
       "\t<li>'John Snow'</li>\n",
       "\t<li>'Arya Stark'</li>\n",
       "\t<li>'Ned Stark'</li>\n",
       "</ol>\n"
      ],
      "text/latex": [
       "\\begin{enumerate*}\n",
       "\\item 'John Snow'\n",
       "\\item 'Arya Stark'\n",
       "\\item 'Ned Stark'\n",
       "\\end{enumerate*}\n"
      ],
      "text/markdown": [
       "1. 'John Snow'\n",
       "2. 'Arya Stark'\n",
       "3. 'Ned Stark'\n",
       "\n",
       "\n"
      ],
      "text/plain": [
       "[1] \"John Snow\"  \"Arya Stark\" \"Ned Stark\" "
      ]
     },
     "metadata": {},
     "output_type": "display_data"
    },
    {
     "data": {
      "text/html": [
       "93.5"
      ],
      "text/latex": [
       "93.5"
      ],
      "text/markdown": [
       "93.5"
      ],
      "text/plain": [
       "[1] 93.5"
      ]
     },
     "metadata": {},
     "output_type": "display_data"
    },
    {
     "data": {
      "text/html": [
       "<ol class=list-inline>\n",
       "\t<li>93.5</li>\n",
       "\t<li>96.4</li>\n",
       "</ol>\n"
      ],
      "text/latex": [
       "\\begin{enumerate*}\n",
       "\\item 93.5\n",
       "\\item 96.4\n",
       "\\end{enumerate*}\n"
      ],
      "text/markdown": [
       "1. 93.5\n",
       "2. 96.4\n",
       "\n",
       "\n"
      ],
      "text/plain": [
       "[1] 93.5 96.4"
      ]
     },
     "metadata": {},
     "output_type": "display_data"
    },
    {
     "data": {
      "text/html": [
       "<ol class=list-inline>\n",
       "\t<li>98.1</li>\n",
       "\t<li>93.5</li>\n",
       "</ol>\n"
      ],
      "text/latex": [
       "\\begin{enumerate*}\n",
       "\\item 98.1\n",
       "\\item 93.5\n",
       "\\end{enumerate*}\n"
      ],
      "text/markdown": [
       "1. 98.1\n",
       "2. 93.5\n",
       "\n",
       "\n"
      ],
      "text/plain": [
       "[1] 98.1 93.5"
      ]
     },
     "metadata": {},
     "output_type": "display_data"
    }
   ],
   "source": [
    "subject_name <- c('John Snow', 'Arya Stark', 'Ned Stark')\n",
    "subject_name\n",
    "temperature <- c(98.1, 93.5, 96.4)\n",
    "flue_status <- c(FALSE, FALSE, TRUE)\n",
    "# printing temperature data\n",
    "temperature[2]\n",
    "# printing 2nd and 3rd valuse\n",
    "temperature[2:3]\n",
    "# displaying data based on boolean values\n",
    "temperature[c(TRUE, TRUE, FALSE)]"
   ]
  },
  {
   "cell_type": "markdown",
   "metadata": {},
   "source": [
    "### Factors"
   ]
  },
  {
   "cell_type": "code",
   "execution_count": 2,
   "metadata": {},
   "outputs": [
    {
     "data": {
      "text/html": [
       "<ol class=list-inline>\n",
       "\t<li>MALE</li>\n",
       "\t<li>FEMALE</li>\n",
       "\t<li>MALE</li>\n",
       "</ol>\n",
       "\n",
       "<details>\n",
       "\t<summary style=display:list-item;cursor:pointer>\n",
       "\t\t<strong>Levels</strong>:\n",
       "\t</summary>\n",
       "\t<ol class=list-inline>\n",
       "\t\t<li>'FEMALE'</li>\n",
       "\t\t<li>'MALE'</li>\n",
       "\t</ol>\n",
       "</details>"
      ],
      "text/latex": [
       "\\begin{enumerate*}\n",
       "\\item MALE\n",
       "\\item FEMALE\n",
       "\\item MALE\n",
       "\\end{enumerate*}\n",
       "\n",
       "\\emph{Levels}: \\begin{enumerate*}\n",
       "\\item 'FEMALE'\n",
       "\\item 'MALE'\n",
       "\\end{enumerate*}\n"
      ],
      "text/markdown": [
       "1. MALE\n",
       "2. FEMALE\n",
       "3. MALE\n",
       "\n",
       "\n",
       "\n",
       "**Levels**: 1. 'FEMALE'\n",
       "2. 'MALE'\n",
       "\n",
       "\n"
      ],
      "text/plain": [
       "[1] MALE   FEMALE MALE  \n",
       "Levels: FEMALE MALE"
      ]
     },
     "metadata": {},
     "output_type": "display_data"
    },
    {
     "data": {
      "text/html": [
       "<ol class=list-inline>\n",
       "\t<li>O</li>\n",
       "\t<li>AB</li>\n",
       "\t<li>A</li>\n",
       "</ol>\n",
       "\n",
       "<details>\n",
       "\t<summary style=display:list-item;cursor:pointer>\n",
       "\t\t<strong>Levels</strong>:\n",
       "\t</summary>\n",
       "\t<ol class=list-inline>\n",
       "\t\t<li>'A'</li>\n",
       "\t\t<li>'B'</li>\n",
       "\t\t<li>'AB'</li>\n",
       "\t\t<li>'O'</li>\n",
       "\t</ol>\n",
       "</details>"
      ],
      "text/latex": [
       "\\begin{enumerate*}\n",
       "\\item O\n",
       "\\item AB\n",
       "\\item A\n",
       "\\end{enumerate*}\n",
       "\n",
       "\\emph{Levels}: \\begin{enumerate*}\n",
       "\\item 'A'\n",
       "\\item 'B'\n",
       "\\item 'AB'\n",
       "\\item 'O'\n",
       "\\end{enumerate*}\n"
      ],
      "text/markdown": [
       "1. O\n",
       "2. AB\n",
       "3. A\n",
       "\n",
       "\n",
       "\n",
       "**Levels**: 1. 'A'\n",
       "2. 'B'\n",
       "3. 'AB'\n",
       "4. 'O'\n",
       "\n",
       "\n"
      ],
      "text/plain": [
       "[1] O  AB A \n",
       "Levels: A B AB O"
      ]
     },
     "metadata": {},
     "output_type": "display_data"
    }
   ],
   "source": [
    "gender = factor(c('MALE', 'FEMALE', 'MALE'))\n",
    "gender\n",
    "# adding factor levels\n",
    "blood_groups <- factor(c('O', 'AB', 'A'), levels = c('A', 'B', 'AB', 'O'))\n",
    "blood_groups"
   ]
  },
  {
   "cell_type": "markdown",
   "metadata": {},
   "source": [
    "### List"
   ]
  },
  {
   "cell_type": "code",
   "execution_count": 3,
   "metadata": {},
   "outputs": [
    {
     "data": {
      "text/html": [
       "<dl>\n",
       "\t<dt>$fullname</dt>\n",
       "\t\t<dd>'John Snow'</dd>\n",
       "\t<dt>$temperature</dt>\n",
       "\t\t<dd>98.1</dd>\n",
       "\t<dt>$flue_status</dt>\n",
       "\t\t<dd>FALSE</dd>\n",
       "\t<dt>$gender</dt>\n",
       "\t\t<dd>MALE\n",
       "<details>\n",
       "\t<summary style=display:list-item;cursor:pointer>\n",
       "\t\t<strong>Levels</strong>:\n",
       "\t</summary>\n",
       "\t<ol class=list-inline>\n",
       "\t\t<li>'FEMALE'</li>\n",
       "\t\t<li>'MALE'</li>\n",
       "\t</ol>\n",
       "</details></dd>\n",
       "\t<dt>$blood</dt>\n",
       "\t\t<dd>O\n",
       "<details>\n",
       "\t<summary style=display:list-item;cursor:pointer>\n",
       "\t\t<strong>Levels</strong>:\n",
       "\t</summary>\n",
       "\t<ol class=list-inline>\n",
       "\t\t<li>'A'</li>\n",
       "\t\t<li>'B'</li>\n",
       "\t\t<li>'AB'</li>\n",
       "\t\t<li>'O'</li>\n",
       "\t</ol>\n",
       "</details></dd>\n",
       "</dl>\n"
      ],
      "text/latex": [
       "\\begin{description}\n",
       "\\item[\\$fullname] 'John Snow'\n",
       "\\item[\\$temperature] 98.1\n",
       "\\item[\\$flue\\_status] FALSE\n",
       "\\item[\\$gender] MALE\n",
       "\\emph{Levels}: \\begin{enumerate*}\n",
       "\\item 'FEMALE'\n",
       "\\item 'MALE'\n",
       "\\end{enumerate*}\n",
       "\n",
       "\\item[\\$blood] O\n",
       "\\emph{Levels}: \\begin{enumerate*}\n",
       "\\item 'A'\n",
       "\\item 'B'\n",
       "\\item 'AB'\n",
       "\\item 'O'\n",
       "\\end{enumerate*}\n",
       "\n",
       "\\end{description}\n"
      ],
      "text/markdown": [
       "$fullname\n",
       ":   'John Snow'\n",
       "$temperature\n",
       ":   98.1\n",
       "$flue_status\n",
       ":   FALSE\n",
       "$gender\n",
       ":   MALE\n",
       "**Levels**: 1. 'FEMALE'\n",
       "2. 'MALE'\n",
       "\n",
       "\n",
       "\n",
       "$blood\n",
       ":   O\n",
       "**Levels**: 1. 'A'\n",
       "2. 'B'\n",
       "3. 'AB'\n",
       "4. 'O'\n",
       "\n",
       "\n",
       "\n",
       "\n",
       "\n"
      ],
      "text/plain": [
       "$fullname\n",
       "[1] \"John Snow\"\n",
       "\n",
       "$temperature\n",
       "[1] 98.1\n",
       "\n",
       "$flue_status\n",
       "[1] FALSE\n",
       "\n",
       "$gender\n",
       "[1] MALE\n",
       "Levels: FEMALE MALE\n",
       "\n",
       "$blood\n",
       "[1] O\n",
       "Levels: A B AB O\n"
      ]
     },
     "metadata": {},
     "output_type": "display_data"
    }
   ],
   "source": [
    "subject1 <- list(fullname = subject_name[1],\n",
    "                 temperature = temperature[1],\n",
    "                 flue_status = flue_status[1],\n",
    "                 gender = gender[1],\n",
    "                 blood = blood_groups[1])\n",
    "\n",
    "subject1"
   ]
  },
  {
   "cell_type": "markdown",
   "metadata": {},
   "source": [
    "### DataFrames"
   ]
  },
  {
   "cell_type": "code",
   "execution_count": 4,
   "metadata": {},
   "outputs": [
    {
     "data": {
      "text/html": [
       "<table>\n",
       "<thead><tr><th scope=col>subject_name</th><th scope=col>temperature</th><th scope=col>gender</th><th scope=col>blood_groups</th></tr></thead>\n",
       "<tbody>\n",
       "\t<tr><td>John Snow </td><td>98.1      </td><td>MALE      </td><td>O         </td></tr>\n",
       "\t<tr><td>Arya Stark</td><td>93.5      </td><td>FEMALE    </td><td>AB        </td></tr>\n",
       "\t<tr><td>Ned Stark </td><td>96.4      </td><td>MALE      </td><td>A         </td></tr>\n",
       "</tbody>\n",
       "</table>\n"
      ],
      "text/latex": [
       "\\begin{tabular}{r|llll}\n",
       " subject\\_name & temperature & gender & blood\\_groups\\\\\n",
       "\\hline\n",
       "\t John Snow  & 98.1       & MALE       & O         \\\\\n",
       "\t Arya Stark & 93.5       & FEMALE     & AB        \\\\\n",
       "\t Ned Stark  & 96.4       & MALE       & A         \\\\\n",
       "\\end{tabular}\n"
      ],
      "text/markdown": [
       "\n",
       "subject_name | temperature | gender | blood_groups | \n",
       "|---|---|---|\n",
       "| John Snow  | 98.1       | MALE       | O          | \n",
       "| Arya Stark | 93.5       | FEMALE     | AB         | \n",
       "| Ned Stark  | 96.4       | MALE       | A          | \n",
       "\n",
       "\n"
      ],
      "text/plain": [
       "  subject_name temperature gender blood_groups\n",
       "1 John Snow    98.1        MALE   O           \n",
       "2 Arya Stark   93.5        FEMALE AB          \n",
       "3 Ned Stark    96.4        MALE   A           "
      ]
     },
     "metadata": {},
     "output_type": "display_data"
    },
    {
     "data": {
      "text/html": [
       "<table>\n",
       "<thead><tr><th scope=col>subject_name</th><th scope=col>temperature</th><th scope=col>gender</th><th scope=col>blood_groups</th></tr></thead>\n",
       "<tbody>\n",
       "\t<tr><td>John Snow</td><td>98.1     </td><td>MALE     </td><td>O        </td></tr>\n",
       "</tbody>\n",
       "</table>\n"
      ],
      "text/latex": [
       "\\begin{tabular}{r|llll}\n",
       " subject\\_name & temperature & gender & blood\\_groups\\\\\n",
       "\\hline\n",
       "\t John Snow & 98.1      & MALE      & O        \\\\\n",
       "\\end{tabular}\n"
      ],
      "text/markdown": [
       "\n",
       "subject_name | temperature | gender | blood_groups | \n",
       "|---|\n",
       "| John Snow | 98.1      | MALE      | O         | \n",
       "\n",
       "\n"
      ],
      "text/plain": [
       "  subject_name temperature gender blood_groups\n",
       "1 John Snow    98.1        MALE   O           "
      ]
     },
     "metadata": {},
     "output_type": "display_data"
    },
    {
     "data": {
      "text/html": [
       "<ol class=list-inline>\n",
       "\t<li>John Snow</li>\n",
       "\t<li>Arya Stark</li>\n",
       "\t<li>Ned Stark</li>\n",
       "</ol>\n",
       "\n",
       "<details>\n",
       "\t<summary style=display:list-item;cursor:pointer>\n",
       "\t\t<strong>Levels</strong>:\n",
       "\t</summary>\n",
       "\t<ol class=list-inline>\n",
       "\t\t<li>'Arya Stark'</li>\n",
       "\t\t<li>'John Snow'</li>\n",
       "\t\t<li>'Ned Stark'</li>\n",
       "\t</ol>\n",
       "</details>"
      ],
      "text/latex": [
       "\\begin{enumerate*}\n",
       "\\item John Snow\n",
       "\\item Arya Stark\n",
       "\\item Ned Stark\n",
       "\\end{enumerate*}\n",
       "\n",
       "\\emph{Levels}: \\begin{enumerate*}\n",
       "\\item 'Arya Stark'\n",
       "\\item 'John Snow'\n",
       "\\item 'Ned Stark'\n",
       "\\end{enumerate*}\n"
      ],
      "text/markdown": [
       "1. John Snow\n",
       "2. Arya Stark\n",
       "3. Ned Stark\n",
       "\n",
       "\n",
       "\n",
       "**Levels**: 1. 'Arya Stark'\n",
       "2. 'John Snow'\n",
       "3. 'Ned Stark'\n",
       "\n",
       "\n"
      ],
      "text/plain": [
       "[1] John Snow  Arya Stark Ned Stark \n",
       "Levels: Arya Stark John Snow Ned Stark"
      ]
     },
     "metadata": {},
     "output_type": "display_data"
    },
    {
     "data": {
      "text/html": [
       "<table>\n",
       "<thead><tr><th scope=col>temperature</th><th scope=col>gender</th></tr></thead>\n",
       "<tbody>\n",
       "\t<tr><td>98.1  </td><td>MALE  </td></tr>\n",
       "\t<tr><td>93.5  </td><td>FEMALE</td></tr>\n",
       "\t<tr><td>96.4  </td><td>MALE  </td></tr>\n",
       "</tbody>\n",
       "</table>\n"
      ],
      "text/latex": [
       "\\begin{tabular}{r|ll}\n",
       " temperature & gender\\\\\n",
       "\\hline\n",
       "\t 98.1   & MALE  \\\\\n",
       "\t 93.5   & FEMALE\\\\\n",
       "\t 96.4   & MALE  \\\\\n",
       "\\end{tabular}\n"
      ],
      "text/markdown": [
       "\n",
       "temperature | gender | \n",
       "|---|---|---|\n",
       "| 98.1   | MALE   | \n",
       "| 93.5   | FEMALE | \n",
       "| 96.4   | MALE   | \n",
       "\n",
       "\n"
      ],
      "text/plain": [
       "  temperature gender\n",
       "1 98.1        MALE  \n",
       "2 93.5        FEMALE\n",
       "3 96.4        MALE  "
      ]
     },
     "metadata": {},
     "output_type": "display_data"
    }
   ],
   "source": [
    "gt_data <- data.frame(subject_name, temperature, gender, blood_groups)\n",
    "gt_data\n",
    "#printing first rows\n",
    "gt_data[1,]\n",
    "#printing first columns\n",
    "gt_data[,1]\n",
    "#printing data by column\n",
    "gt_data[c('temperature', 'gender')]"
   ]
  },
  {
   "cell_type": "markdown",
   "metadata": {},
   "source": [
    "### Metrixes and Arrays"
   ]
  },
  {
   "cell_type": "code",
   "execution_count": 5,
   "metadata": {},
   "outputs": [
    {
     "data": {
      "text/html": [
       "<table>\n",
       "<tbody>\n",
       "\t<tr><td>a</td><td>c</td><td>e</td></tr>\n",
       "\t<tr><td>b</td><td>d</td><td>f</td></tr>\n",
       "</tbody>\n",
       "</table>\n"
      ],
      "text/latex": [
       "\\begin{tabular}{lll}\n",
       "\t a & c & e\\\\\n",
       "\t b & d & f\\\\\n",
       "\\end{tabular}\n"
      ],
      "text/markdown": [
       "\n",
       "| a | c | e | \n",
       "| b | d | f | \n",
       "\n",
       "\n"
      ],
      "text/plain": [
       "     [,1] [,2] [,3]\n",
       "[1,] a    c    e   \n",
       "[2,] b    d    f   "
      ]
     },
     "metadata": {},
     "output_type": "display_data"
    },
    {
     "data": {
      "text/html": [
       "<table>\n",
       "<tbody>\n",
       "\t<tr><td>a</td><td>d</td></tr>\n",
       "\t<tr><td>b</td><td>e</td></tr>\n",
       "\t<tr><td>c</td><td>f</td></tr>\n",
       "</tbody>\n",
       "</table>\n"
      ],
      "text/latex": [
       "\\begin{tabular}{ll}\n",
       "\t a & d\\\\\n",
       "\t b & e\\\\\n",
       "\t c & f\\\\\n",
       "\\end{tabular}\n"
      ],
      "text/markdown": [
       "\n",
       "| a | d | \n",
       "| b | e | \n",
       "| c | f | \n",
       "\n",
       "\n"
      ],
      "text/plain": [
       "     [,1] [,2]\n",
       "[1,] a    d   \n",
       "[2,] b    e   \n",
       "[3,] c    f   "
      ]
     },
     "metadata": {},
     "output_type": "display_data"
    }
   ],
   "source": [
    "m <- matrix(c('a', 'b', 'c', 'd', 'e', 'f'), nrow = 2)\n",
    "m\n",
    "m <- matrix(c('a', 'b', 'c', 'd', 'e', 'f'), ncol = 2)\n",
    "m"
   ]
  }
 ],
 "metadata": {
  "kernelspec": {
   "display_name": "R",
   "language": "R",
   "name": "ir"
  },
  "language_info": {
   "codemirror_mode": "r",
   "file_extension": ".r",
   "mimetype": "text/x-r-source",
   "name": "R",
   "pygments_lexer": "r",
   "version": "3.5.1"
  }
 },
 "nbformat": 4,
 "nbformat_minor": 2
}
